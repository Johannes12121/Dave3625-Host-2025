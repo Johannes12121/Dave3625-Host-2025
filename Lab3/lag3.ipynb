{
 "cells": [
  {
   "cell_type": "code",
   "execution_count": 1,
   "id": "2ff1867d",
   "metadata": {},
   "outputs": [
    {
     "name": "stdout",
     "output_type": "stream",
     "text": [
      "<bound method NDFrame.head of       PassengerId  Survived  Pclass  \\\n",
      "0               1       0.0       3   \n",
      "1               2       1.0       1   \n",
      "2               3       1.0       3   \n",
      "3               4       1.0       1   \n",
      "4               5       0.0       3   \n",
      "...           ...       ...     ...   \n",
      "1304         1305       NaN       3   \n",
      "1305         1306       NaN       1   \n",
      "1306         1307       NaN       3   \n",
      "1307         1308       NaN       3   \n",
      "1308         1309       NaN       3   \n",
      "\n",
      "                                                   Name     Sex   Age  SibSp  \\\n",
      "0                               Braund, Mr. Owen Harris    male  22.0      1   \n",
      "1     Cumings, Mrs. John Bradley (Florence Briggs Th...  female  38.0      1   \n",
      "2                                Heikkinen, Miss. Laina  female  26.0      0   \n",
      "3          Futrelle, Mrs. Jacques Heath (Lily May Peel)  female  35.0      1   \n",
      "4                              Allen, Mr. William Henry    male  35.0      0   \n",
      "...                                                 ...     ...   ...    ...   \n",
      "1304                                 Spector, Mr. Woolf    male   NaN      0   \n",
      "1305                       Oliva y Ocana, Dona. Fermina  female  39.0      0   \n",
      "1306                       Saether, Mr. Simon Sivertsen    male  38.5      0   \n",
      "1307                                Ware, Mr. Frederick    male   NaN      0   \n",
      "1308                           Peter, Master. Michael J    male   NaN      1   \n",
      "\n",
      "      Parch              Ticket      Fare Cabin Embarked  \n",
      "0         0           A/5 21171    7.2500   NaN        S  \n",
      "1         0            PC 17599   71.2833   C85        C  \n",
      "2         0    STON/O2. 3101282    7.9250   NaN        S  \n",
      "3         0              113803   53.1000  C123        S  \n",
      "4         0              373450    8.0500   NaN        S  \n",
      "...     ...                 ...       ...   ...      ...  \n",
      "1304      0           A.5. 3236    8.0500   NaN        S  \n",
      "1305      0            PC 17758  108.9000  C105        C  \n",
      "1306      0  SOTON/O.Q. 3101262    7.2500   NaN        S  \n",
      "1307      0              359309    8.0500   NaN        S  \n",
      "1308      1                2668   22.3583   NaN        C  \n",
      "\n",
      "[1309 rows x 12 columns]>\n"
     ]
    }
   ],
   "source": [
    "import pandas as pd\n",
    "import numpy as np\n",
    "import matplotlib.pyplot as plt\n",
    "import seaborn as sns\n",
    "import re\n",
    "\n",
    "\n",
    "\n",
    "df = pd.read_csv('data/Titanic.csv')\n",
    "\n",
    "df.head(10)\n",
    "df.tail(10)\n",
    "\n",
    "print(df.head)\n",
    "\n",
    "\n",
    "\n"
   ]
  }
 ],
 "metadata": {
  "kernelspec": {
   "display_name": "venv",
   "language": "python",
   "name": "venv"
  },
  "language_info": {
   "codemirror_mode": {
    "name": "ipython",
    "version": 3
   },
   "file_extension": ".py",
   "mimetype": "text/x-python",
   "name": "python",
   "nbconvert_exporter": "python",
   "pygments_lexer": "ipython3",
   "version": "3.12.2"
  }
 },
 "nbformat": 4,
 "nbformat_minor": 5
}
